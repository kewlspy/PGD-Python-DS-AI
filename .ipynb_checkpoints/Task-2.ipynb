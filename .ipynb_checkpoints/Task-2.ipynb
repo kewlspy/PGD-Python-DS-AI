{
 "cells": [
  {
   "cell_type": "code",
   "execution_count": 3,
   "id": "f2b617bb-479a-47d1-8780-8bfdfa3a1d69",
   "metadata": {},
   "outputs": [
    {
     "name": "stdout",
     "output_type": "stream",
     "text": [
      "1\n",
      "2\n",
      "3\n",
      "4\n",
      "5\n",
      "6\n",
      "7\n",
      "8\n",
      "9\n",
      "10\n"
     ]
    }
   ],
   "source": [
    "# 1. Write a Python program to print the numbers from 1 to 10 using a for loop.\n",
    "\n",
    "for i in range(1, 11):\n",
    "    print(i)\n"
   ]
  },
  {
   "cell_type": "code",
   "execution_count": 2,
   "id": "31d83028-184a-4ef8-9212-745b284be85a",
   "metadata": {},
   "outputs": [
    {
     "name": "stdout",
     "output_type": "stream",
     "text": [
      "1\n",
      "2\n",
      "3\n",
      "4\n",
      "5\n"
     ]
    }
   ],
   "source": [
    "# 2. Create a list containing the numbers 1 to 5. Then, using a for loop, print each element of the list.\n",
    "\n",
    "numbers = [1, 2, 3, 4, 5]\n",
    "for number in numbers:\n",
    "    print(number)\n"
   ]
  },
  {
   "cell_type": "code",
   "execution_count": 1,
   "id": "24ca0c0b-a736-4508-a7a4-d0a871541734",
   "metadata": {},
   "outputs": [
    {
     "name": "stdout",
     "output_type": "stream",
     "text": [
      "The sum of all numbers in the list is: 15\n"
     ]
    }
   ],
   "source": [
    "\n",
    "# 3. Write a program that takes a list of numbers and returns the sum of all the numbers in the list.\n",
    "\n",
    "def sum_of_numbers(numbers):\n",
    "    total_sum = 0\n",
    "    for number in numbers:\n",
    "        total_sum += number\n",
    "    return total_sum\n",
    "\n",
    "numbers = [1, 2, 3, 4, 5]\n",
    "total_sum = sum_of_numbers(numbers)\n",
    "print(f\"The sum of all numbers in the list is: {total_sum}\")\n"
   ]
  },
  {
   "cell_type": "code",
   "execution_count": 5,
   "id": "6b48cfc9-639c-4ed9-a71e-3a121d85435e",
   "metadata": {},
   "outputs": [
    {
     "name": "stdout",
     "output_type": "stream",
     "text": [
      "Concatenated string: Hello World!\n"
     ]
    }
   ],
   "source": [
    "# 4. Given a list of strings, write a program to concatenate all the strings into one.\n",
    "# \n",
    "def concatenate_strings(strings):\n",
    "    result = \"\"\n",
    "    for string in strings:\n",
    "        result += string\n",
    "    return result\n",
    "\n",
    "strings = [\"Hello\", \" \", \"World\", \"!\"]\n",
    "concatenated_string = concatenate_strings(strings)\n",
    "print(f\"Concatenated string: {concatenated_string}\")\n"
   ]
  },
  {
   "cell_type": "code",
   "execution_count": 6,
   "id": "a2c3e30f-9e5e-4b2d-9e9b-1fe7e30d5da9",
   "metadata": {},
   "outputs": [
    {
     "name": "stdout",
     "output_type": "stream",
     "text": [
      "The largest number in the list is: 8\n"
     ]
    }
   ],
   "source": [
    "# 5. Write a program that takes a list of numbers and returns the largest number in the list.\n",
    "\n",
    "def find_largest_number(numbers):\n",
    "    largest = numbers[0]\n",
    "    for number in numbers:\n",
    "        if number > largest:\n",
    "            largest = number\n",
    "    return largest\n",
    "\n",
    "numbers = [1, 3, 5, 7, 2, 8, 4]\n",
    "largest_number = find_largest_number(numbers)\n",
    "print(f\"The largest number in the list is: {largest_number}\")\n",
    "\n"
   ]
  },
  {
   "cell_type": "code",
   "execution_count": 7,
   "id": "6d83bef8-e97e-4a71-b528-4b45eb8498d0",
   "metadata": {},
   "outputs": [
    {
     "name": "stdout",
     "output_type": "stream",
     "text": [
      "The square of 1 is 1\n",
      "The square of 2 is 4\n",
      "The square of 3 is 9\n",
      "The square of 4 is 16\n",
      "The square of 5 is 25\n",
      "The square of 6 is 36\n",
      "The square of 7 is 49\n",
      "The square of 8 is 64\n",
      "The square of 9 is 81\n",
      "The square of 10 is 100\n"
     ]
    }
   ],
   "source": [
    "\n",
    "# 6. Create a list containing the numbers 1 to 10. Using a for loop, square each number in the list and print the result.\n",
    "\n",
    "numbers = [1, 2, 3, 4, 5, 6, 7, 8, 9, 10]\n",
    "for number in numbers:\n",
    "    squared_number = number ** 2\n",
    "    print(f\"The square of {number} is {squared_number}\")\n",
    "\n"
   ]
  },
  {
   "cell_type": "code",
   "execution_count": 8,
   "id": "0a47f782-1cb3-4c70-8b99-6d0cb7679879",
   "metadata": {},
   "outputs": [
    {
     "name": "stdout",
     "output_type": "stream",
     "text": [
      "Even numbers in the list are: [2, 4, 6, 8, 10]\n"
     ]
    }
   ],
   "source": [
    "\n",
    "# 7. Write a program that takes a list of numbers and returns a new list containing only the even numbers from the original list.\n",
    "\n",
    "def filter_even_numbers(numbers):\n",
    "    even_numbers = []\n",
    "    for number in numbers:\n",
    "        if number % 2 == 0:\n",
    "            even_numbers.append(number)\n",
    "    return even_numbers\n",
    "\n",
    "numbers = [1, 2, 3, 4, 5, 6, 7, 8, 9, 10]\n",
    "even_numbers = filter_even_numbers(numbers)\n",
    "print(f\"Even numbers in the list are: {even_numbers}\")\n",
    "\n"
   ]
  },
  {
   "cell_type": "code",
   "execution_count": 10,
   "id": "33edcf4a-5d2b-481c-9d4a-b9dcdd6d3e0c",
   "metadata": {},
   "outputs": [
    {
     "name": "stdout",
     "output_type": "stream",
     "text": [
      "Combined list (element-wise addition): [5, 7, 9]\n"
     ]
    }
   ],
   "source": [
    "# 8. Given two lists of numbers, write a program to combine the lists element-wise (i.e., element-wise addition).\n",
    "\n",
    "def combine_lists_elementwise(list1, list2):\n",
    "    combined_list = []\n",
    "    for i in range(len(list1)):\n",
    "        combined_list.append(list1[i] + list2[i])\n",
    "    return combined_list\n",
    "\n",
    "list1 = [1, 2, 3]\n",
    "list2 = [4, 5, 6]\n",
    "combined_list = combine_lists_elementwise(list1, list2)\n",
    "print(f\"Combined list (element-wise addition): {combined_list}\")\n"
   ]
  },
  {
   "cell_type": "code",
   "execution_count": 11,
   "id": "5d12e3fd-6146-4301-a3b7-4004618fbf31",
   "metadata": {},
   "outputs": [
    {
     "name": "stdout",
     "output_type": "stream",
     "text": [
      "Lengths of each string: [5, 6, 6]\n"
     ]
    }
   ],
   "source": [
    "\n",
    "# 9. Write a program that takes a list of strings and returns a new list containing the lengths of each string.\n",
    "\n",
    "def lengths_of_strings(strings):\n",
    "    lengths = []\n",
    "    for string in strings:\n",
    "        lengths.append(len(string))\n",
    "    return lengths\n",
    "strings = [\"apple\", \"banana\", \"cherry\"]\n",
    "lengths = lengths_of_strings(strings)\n",
    "print(f\"Lengths of each string: {lengths}\")\n"
   ]
  },
  {
   "cell_type": "code",
   "execution_count": 12,
   "id": "e736c488-6eb9-43a1-b760-e906d7b35458",
   "metadata": {},
   "outputs": [
    {
     "name": "stdout",
     "output_type": "stream",
     "text": [
      "2\n",
      "4\n",
      "6\n",
      "8\n",
      "10\n"
     ]
    }
   ],
   "source": [
    "\n",
    "# 10. Create a list of numbers from 1 to 10. Using list slicing and a for loop, print every second element of the list.\n",
    "\n",
    "numbers = list(range(1, 11))\n",
    "for i in range(1, len(numbers), 2):\n",
    "    print(numbers[i])\n"
   ]
  },
  {
   "cell_type": "code",
   "execution_count": null,
   "id": "58149e7a-d981-47d5-b44f-a46cc7fd4254",
   "metadata": {},
   "outputs": [],
   "source": []
  }
 ],
 "metadata": {
  "kernelspec": {
   "display_name": "Python 3 (ipykernel)",
   "language": "python",
   "name": "python3"
  },
  "language_info": {
   "codemirror_mode": {
    "name": "ipython",
    "version": 3
   },
   "file_extension": ".py",
   "mimetype": "text/x-python",
   "name": "python",
   "nbconvert_exporter": "python",
   "pygments_lexer": "ipython3",
   "version": "3.11.7"
  }
 },
 "nbformat": 4,
 "nbformat_minor": 5
}
