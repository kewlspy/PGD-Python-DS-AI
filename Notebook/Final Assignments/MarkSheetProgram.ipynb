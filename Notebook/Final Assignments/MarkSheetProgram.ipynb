{
 "cells": [
  {
   "cell_type": "code",
   "execution_count": 24,
   "id": "5500177e-13db-4e91-a88e-fa8b0f684104",
   "metadata": {},
   "outputs": [
    {
     "name": "stdin",
     "output_type": "stream",
     "text": [
      "\n",
      "Enter Marks of Subject 1: 89\n",
      "\n",
      "Enter Marks of Subject 2: 78\n",
      "\n",
      "Enter Marks of Subject 3: 76\n",
      "\n",
      "Enter Marks of Subject 4: 77\n",
      "\n",
      "Enter Marks of Subject 5: 90\n",
      "\n",
      "Enter Marks of Subject 6: 97\n"
     ]
    },
    {
     "name": "stdout",
     "output_type": "stream",
     "text": [
      "\n",
      "Total Marks Obtained: 507\n",
      "Total Percentage Obtained: 84%.\n",
      "Your Grade is B\n"
     ]
    }
   ],
   "source": [
    "def MarkSheet():\n",
    "    markList=[]\n",
    "    totalSubjects=6\n",
    "    totalMarks=600\n",
    "    percentage=0\n",
    "    m=0\n",
    "    def Percentage(x):\n",
    "        if x>=90 and x<=100:\n",
    "            return \"A\"\n",
    "        elif x>=80 and x<=89:\n",
    "            return \"B\"\n",
    "        elif x>=70 and x<=79:\n",
    "            return \"C\"\n",
    "        elif x>=60 and x<=69:\n",
    "            return \"D\"\n",
    "        elif x<60:\n",
    "            return \"F\"\n",
    "\n",
    "            \n",
    "    for i in range(0,totalSubjects):\n",
    "        marks=int(input(f\"\\nEnter Marks of Subject {i+1}:\"))\n",
    "        markList.append(marks)\n",
    "    for j in markList:\n",
    "        m+=j\n",
    "    percentage=int((m/totalMarks)*100)\n",
    "    \n",
    "    print(f\"\\nTotal Marks Obtained: {m}\\nTotal Percentage Obtained: {percentage}%.\\nYour Grade is {Percentage(percentage)}\")\n",
    "    # print(Percentage(percentage))\n",
    "    \n",
    "\n",
    "MarkSheet()   "
   ]
  },
  {
   "cell_type": "markdown",
   "id": "78b2fe24-7d82-4450-ba8b-6dcb6104d3b7",
   "metadata": {},
   "source": []
  }
 ],
 "metadata": {
  "kernelspec": {
   "display_name": "Python 3 (ipykernel)",
   "language": "python",
   "name": "python3"
  },
  "language_info": {
   "codemirror_mode": {
    "name": "ipython",
    "version": 3
   },
   "file_extension": ".py",
   "mimetype": "text/x-python",
   "name": "python",
   "nbconvert_exporter": "python",
   "pygments_lexer": "ipython3",
   "version": "3.11.7"
  }
 },
 "nbformat": 4,
 "nbformat_minor": 5
}
