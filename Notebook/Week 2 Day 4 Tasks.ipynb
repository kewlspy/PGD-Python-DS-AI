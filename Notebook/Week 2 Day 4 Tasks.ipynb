{
 "cells": [
  {
   "cell_type": "code",
   "execution_count": 6,
   "id": "0eefcaa7-b90c-422d-9dbf-d0dc1ebb99d8",
   "metadata": {},
   "outputs": [
    {
     "name": "stdin",
     "output_type": "stream",
     "text": [
      "Enter your age:  14\n"
     ]
    },
    {
     "name": "stdout",
     "output_type": "stream",
     "text": [
      "wait for 4 years\n"
     ]
    }
   ],
   "source": [
    "# TASK 1\n",
    "#===================================\n",
    "\n",
    "userAge=int(input(\"Enter your age: \"))\n",
    "limitAge=18\n",
    "if userAge>=18:\n",
    "    print(\"You are old enough to drive.\")\n",
    "else:\n",
    "    if limitAge-userAge==1:\n",
    "        print(f\"wait for {limitAge-userAge} year\")\n",
    "    else:\n",
    "        print(f\"wait for {limitAge-userAge} years\")"
   ]
  },
  {
   "cell_type": "code",
   "execution_count": 39,
   "id": "0b0f46b1-be02-4de7-bfe7-21705fc2cf5b",
   "metadata": {},
   "outputs": [
    {
     "name": "stdin",
     "output_type": "stream",
     "text": [
      "Enter my age:  12\n",
      "Enter your age:  14\n"
     ]
    },
    {
     "name": "stdout",
     "output_type": "stream",
     "text": [
      "You are 2 years older than me\n"
     ]
    }
   ],
   "source": [
    "# TASK 2\n",
    "\n",
    "# INPUTS\n",
    "my_age=(input(\"Enter my age: \"))\n",
    "your_age=(input(\"Enter your age: \"))\n",
    "\n",
    "# CHECKING FOR STRING OR INTEGER\n",
    "if my_age.isdigit() and your_age.isdigit():\n",
    "    my_age=int(my_age)\n",
    "    your_age=int(your_age)\n",
    "    \n",
    "# COMPARISON\n",
    "    if my_age==your_age:\n",
    "        print(\"We are of same age\" )\n",
    "        \n",
    "    elif my_age>your_age:\n",
    "        if my_age-your_age==1 :\n",
    "            print(f\"I am {my_age-your_age} year older than you\")\n",
    "        else:\n",
    "            print(f\"I am {my_age-your_age} years older than you\")\n",
    "    else:\n",
    "        if your_age-my_age==1:\n",
    "            print(f\"You are {your_age-my_age} year older than me\")\n",
    "        else:\n",
    "            print(f\"You are {your_age-my_age} years older than me\")\n",
    "else:\n",
    "     print(\"Please enter valid number.\")"
   ]
  },
  {
   "cell_type": "code",
   "execution_count": 51,
   "id": "a8e4761f-9d7e-4857-afd2-55cc797003e7",
   "metadata": {},
   "outputs": [
    {
     "name": "stdin",
     "output_type": "stream",
     "text": [
      "Enter number a:  2\n",
      "Enter number b:  2\n"
     ]
    },
    {
     "name": "stdout",
     "output_type": "stream",
     "text": [
      "Number a and b are same\n"
     ]
    }
   ],
   "source": [
    "# TASK 3\n",
    "\n",
    "# INPUTS\n",
    "a=(input(\"Enter number a: \"))\n",
    "b=(input(\"Enter number b: \"))\n",
    "\n",
    "# CHECKING FOR STRING OR INTEGER\n",
    "if a.isdigit() and b.isdigit():\n",
    "    a=int(a)\n",
    "    b=int(b)\n",
    "    \n",
    "# COMPARISON\n",
    "    if a==b:\n",
    "        print(\"Number a and b are same\" ) \n",
    "    elif a>b:\n",
    "        print(f\"a is greater than b\")\n",
    "    elif b>a:\n",
    "          print(f\"b is greater than a\")\n",
    "else:\n",
    "     print(\"Please enter valid number.\")\n"
   ]
  },
  {
   "cell_type": "markdown",
   "id": "183f3e4d-5ca4-41f5-91d4-27d0a8160040",
   "metadata": {},
   "source": []
  }
 ],
 "metadata": {
  "kernelspec": {
   "display_name": "Python 3 (ipykernel)",
   "language": "python",
   "name": "python3"
  },
  "language_info": {
   "codemirror_mode": {
    "name": "ipython",
    "version": 3
   },
   "file_extension": ".py",
   "mimetype": "text/x-python",
   "name": "python",
   "nbconvert_exporter": "python",
   "pygments_lexer": "ipython3",
   "version": "3.11.7"
  }
 },
 "nbformat": 4,
 "nbformat_minor": 5
}
